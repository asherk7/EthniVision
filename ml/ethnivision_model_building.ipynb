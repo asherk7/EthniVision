{
 "cells": [
  {
   "cell_type": "markdown",
   "metadata": {},
   "source": [
    "# Predicting Ethnicities, Age, and Gender with Neural Networks"
   ]
  },
  {
   "cell_type": "markdown",
   "metadata": {},
   "source": [
    "## Table of Contents:\n",
    "1. *Introduction*\n",
    "2. *Data Preperation*\n",
    "    * 2.1 Data Cleaning/Preparation\n",
    "    * 2.2 Data Loading\n",
    "    * 2.3 Data Preprocessing\n",
    "    * 2.4 Data Exploration\n",
    "3. *Model Architecture*\n",
    "    * 3.1 Neural Network Design\n",
    "    * 3.2 Model Compilation\n",
    "4. *Model Training*\n",
    "    * 4.1 Training Process\n",
    "5. *Model Evaluation*\n",
    "    * 5.1 Model Performance\n",
    "    * 5.2 Confusion Matrix\n",
    "6. *Model Deployment*\n",
    "    * 6.1 Model Saving\n",
    "7. *Conclusion*\n",
    "8. *References*\n"
   ]
  },
  {
   "cell_type": "markdown",
   "metadata": {},
   "source": [
    "## 1. Introduction:\n",
    "In this notebook, we will explore the process of building a neural network model to predict ethnicities, age, and gender based on certain features. Predicting ethnicities, age, and gender can have various applications, including demographic analysis, social studies, and more. We will follow a step-by-step approach, covering data preprocessing, model architecture design, training, evaluation, and interpretation."
   ]
  },
  {
   "cell_type": "markdown",
   "metadata": {},
   "source": [
    "## 2. Data Preparation"
   ]
  },
  {
   "cell_type": "markdown",
   "metadata": {},
   "source": [
    "### 2.1 Data Cleaning/Preparation\n",
    "\n",
    "The dataset from FairFace is split between a training set and a validation set, lacking the test set. In this section, I will:\n",
    "- Combine all the images into one folder\n",
    "- Rename the images starting from 1 to the total number of images\n",
    "- Compile all the csv files into one with the new names\n",
    "- Split the images and csv into training, validation, and test sets"
   ]
  },
  {
   "cell_type": "code",
   "execution_count": 25,
   "metadata": {},
   "outputs": [],
   "source": [
    "import os\n",
    "import shutil\n",
    "import csv"
   ]
  },
  {
   "cell_type": "code",
   "execution_count": 24,
   "metadata": {},
   "outputs": [],
   "source": [
    "# Moving the training images to the all images folder\n",
    "temp_train_path = \"C:\\\\Users\\\\mashe\\\\Downloads\\\\temp\\\\train\"\n",
    "all_images = \"C:\\\\Users\\\\mashe\\\\Downloads\\\\temp\\\\all\"\n",
    "\n",
    "train_files = os.listdir(temp_train_path)\n",
    "\n",
    "for file_name in train_files:\n",
    "    train_path = os.path.join(temp_train_path, file_name)\n",
    "    all_path = os.path.join(all_images, file_name)\n",
    "    shutil.move(train_path, all_path)"
   ]
  },
  {
   "cell_type": "code",
   "execution_count": 42,
   "metadata": {},
   "outputs": [],
   "source": [
    "# Moving the contents of the train csv to a general csv file\n",
    "# Changing the file column to only include the name of the file\n",
    "temp_train_csv = \"C:\\\\Users\\\\mashe\\\\Downloads\\\\temp_csv\\\\images_train.csv\"\n",
    "general_csv = \"C:\\\\Users\\\\mashe\\\\Downloads\\\\temp_csv\\\\all.csv\"\n",
    "\n",
    "new_rows = []\n",
    "with open(temp_train_csv, 'r') as csvfile:\n",
    "    reader = csv.reader(csvfile)\n",
    "    for row in reader:\n",
    "        modified_row = [row[0].split('/')[-1]] + row[1:]\n",
    "        new_rows.append(modified_row)\n",
    "\n",
    "with open(general_csv, 'w', newline='') as csvfile:\n",
    "    writer = csv.writer(csvfile)\n",
    "    writer.writerows(new_rows)"
   ]
  },
  {
   "cell_type": "code",
   "execution_count": 23,
   "metadata": {},
   "outputs": [
    {
     "data": {
      "text/plain": [
       "'86745.jpg'"
      ]
     },
     "execution_count": 23,
     "metadata": {},
     "output_type": "execute_result"
    }
   ],
   "source": [
    "# Setting a variable for the name of the last image in train\n",
    "img_name = str(len(os.listdir(temp_train_path)) + 1) + \".jpg\"\n",
    "img_name"
   ]
  },
  {
   "cell_type": "code",
   "execution_count": null,
   "metadata": {},
   "outputs": [],
   "source": [
    "# Moving the validation images\n",
    "temp_val_path = \"C:\\\\Users\\\\mashe\\\\Downloads\\\\temp\\\\val\"\n",
    "all_images = \"C:\\\\Users\\\\mashe\\\\Downloads\\\\temp\\\\all\"\n",
    "\n",
    "val_files = os.listdir(temp_val_path)\n",
    "\n",
    "# for val, take an image, get its name\n",
    "# go to the csv, and rename both the image and it's name in the csv\n",
    "# then move the image to the val folder\n",
    "# at the end, copy the csv to the new csv"
   ]
  },
  {
   "cell_type": "markdown",
   "metadata": {},
   "source": [
    "### 2.2 Data Loading"
   ]
  },
  {
   "cell_type": "markdown",
   "metadata": {},
   "source": [
    "### 2.3 Data Preprocessing"
   ]
  },
  {
   "cell_type": "markdown",
   "metadata": {},
   "source": [
    "### 2.4 Data Exploration"
   ]
  },
  {
   "cell_type": "markdown",
   "metadata": {},
   "source": [
    "## 3. Model Architecture"
   ]
  },
  {
   "cell_type": "markdown",
   "metadata": {},
   "source": [
    "### 3.1 Neural Network Design"
   ]
  },
  {
   "cell_type": "markdown",
   "metadata": {},
   "source": [
    "### 3.2 Model Compilation"
   ]
  },
  {
   "cell_type": "markdown",
   "metadata": {},
   "source": [
    "## 4. Model Training"
   ]
  },
  {
   "cell_type": "markdown",
   "metadata": {},
   "source": [
    "### 4.1 Training Process"
   ]
  },
  {
   "cell_type": "markdown",
   "metadata": {},
   "source": [
    "## 5. Model Evaluation"
   ]
  },
  {
   "cell_type": "markdown",
   "metadata": {},
   "source": [
    "### 5.1 Model Performance"
   ]
  },
  {
   "cell_type": "markdown",
   "metadata": {},
   "source": [
    "### 5.2 Confusion Matrix"
   ]
  },
  {
   "cell_type": "markdown",
   "metadata": {},
   "source": [
    "## 6. Model Deployment"
   ]
  },
  {
   "cell_type": "markdown",
   "metadata": {},
   "source": [
    "### 6.1 Model Saving"
   ]
  },
  {
   "cell_type": "markdown",
   "metadata": {},
   "source": [
    "## 7. Conclusion"
   ]
  },
  {
   "cell_type": "markdown",
   "metadata": {},
   "source": [
    "## 8. References"
   ]
  },
  {
   "cell_type": "markdown",
   "metadata": {},
   "source": [
    "The dataset was retrieved from the FairFace study.\n",
    "\n",
    "Karkkainen, Kimmo and Joo, Jungseock. (2021). FairFace: Face Attribute Dataset for Balanced Race, Gender, and Age for Bias Measurement and Mitigation. Proceedings of the IEEE/CVF Winter Conference on Applications of Computer Vision. 1548-1558. 10.1109/WACV48630.2021.00159"
   ]
  }
 ],
 "metadata": {
  "kernelspec": {
   "display_name": "Python 3",
   "language": "python",
   "name": "python3"
  },
  "language_info": {
   "codemirror_mode": {
    "name": "ipython",
    "version": 3
   },
   "file_extension": ".py",
   "mimetype": "text/x-python",
   "name": "python",
   "nbconvert_exporter": "python",
   "pygments_lexer": "ipython3",
   "version": "3.10.1"
  },
  "orig_nbformat": 4
 },
 "nbformat": 4,
 "nbformat_minor": 2
}
